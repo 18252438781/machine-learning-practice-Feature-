{
 "cells": [
  {
   "cell_type": "markdown",
   "metadata": {},
   "source": [
    "# 泰坦尼克号数据科学解决方案\n",
    "\n",
    "- 比赛链接：https://www.kaggle.com/c/titanic/overview/tutorials\n",
    "- 原文链接：https://www.kaggle.com/startupsci/titanic/titanic-data-science-solutions\n",
    "\n",
    "本笔记本的目标是按照逐步的工作流程，解释我们在解决方案开发过程中做出的每个决定的每个步骤和基本原理。"
   ]
  },
  {
   "cell_type": "markdown",
   "metadata": {},
   "source": [
    "## 工作流程\n",
    "\n",
    "根据 [Data Science Solutions](https://www.amazon.com/Data-Science-Solutions-Startup-Workflow/dp/1520545312)书中描述的七个阶段。\n",
    "1. 问题定义\n",
    "2. 获取训练和测试数据\n",
    "3. 处理、准备、清洗数据\n",
    "4. 分析、识别模式和探索数据\n",
    "5. 建模、预测和解决问题\n",
    "6. 可视化，报告和呈现问题解决步骤和最终解决方案\n",
    "7. 提供结果\n",
    "\n",
    "## 问题定义\n",
    "\n",
    "根据训练数据中的乘客存活与否的信息，建立模型，在测试集中预测乘客是否存活。\n",
    "\n",
    "注意点：\n",
    "- 1912年4月15日，在她的处女航中，泰坦尼克号在与冰山相撞后沉没，2224名乘客和机组人员中有1502人死亡。即生存率为32％。\n",
    "- 造成海难失事的原因之一是乘客和机组人员没有足够的救生艇。\n",
    "- 尽管幸存下沉有一些运气因素，但有些人比其他人更容易生存，例如妇女，儿童和上流社会。\n",
    "\n",
    "## 工作流目标\n",
    "\n",
    "数据科学解决方案工作流程解决了七个主要目标。\n",
    "\n",
    "**分类** 我们可能希望对样本进行分类。我们可能还想了解不同类的含义或与我们的目标的相关性。\n",
    "\n",
    "**相关** 可以基于训练数据集内的可用特征来解决问题。数据集中的哪些特征对我们的目标有重大贡献？从统计学上讲，特征和目标之间是否存在相关性？随着特征值的变化，解决方案状态也会发生变化，反之亦然？这可以针对给定数据集中的数值和类别特征进行测试。我们可能还希望确定除后续目标和工作流程阶段之外的特征之间的相关性。关联某些特征可能有助于创建，补全或更正特征。\n",
    "\n",
    "**转换** 对于建模阶段，需要准备数据。根据模型算法的选择，可能需要将所有特征转换为数值等效值。例如，将文本分类值转换为数值。\n",
    "\n",
    "**补全** 数据准备可能还需要我们估计特征中的任何缺失值。当没有缺失值时，模型算法可能最有效。\n",
    "\n",
    "**纠正** 我们还可以分析给定的训练数据集中的错误或可能在特征内提取值特征内的错误值，并尝试纠正这些值或排除包含错误的样本。一种方法是检测我们的样本或特征中的任何异常值。如果某项特征不对分析做出贡献，或者可能会严重影响结果，我们也可能完全丢弃该特征。\n",
    "\n",
    "**创建** 我们是否可以基于现有的特征或一组特征创建新特征，以便新特征遵循关联，转换和完整性目标。\n",
    "\n",
    "**图表** 如何根据数据的性质和解决方案目标选择正确的可视化图表。"
   ]
  },
  {
   "cell_type": "markdown",
   "metadata": {},
   "source": [
    "## 导入相关库"
   ]
  },
  {
   "cell_type": "code",
   "execution_count": 4,
   "metadata": {
    "ExecuteTime": {
     "end_time": "2019-08-11T16:56:07.194611Z",
     "start_time": "2019-08-11T16:56:07.185531Z"
    }
   },
   "outputs": [],
   "source": [
    "# 数据分析和处理\n",
    "import pandas as pd\n",
    "import numpy as np\n",
    "import random as rnd\n",
    "\n",
    "# 可视化\n",
    "import seaborn as sns\n",
    "import matplotlib.pyplot as plt\n",
    "%matplotlib inline\n",
    "\n",
    "# 机器学习\n",
    "from sklearn.linear_model import LogisticRegression\n",
    "from sklearn.svm import SVC, LinearSVC\n",
    "from sklearn.ensemble import RandomForestClassifier\n",
    "from sklearn.neighbors import KNeighborsClassifier\n",
    "from sklearn.naive_bayes import GaussianNB\n",
    "from sklearn.linear_model import Perceptron\n",
    "from sklearn.linear_model import SGDClassifier\n",
    "from sklearn.tree import DecisionTreeClassifier"
   ]
  },
  {
   "cell_type": "markdown",
   "metadata": {},
   "source": [
    "## 获取数据\n",
    "\n",
    "使用 Pandas， 讲训练数据和测试数据存入 DataFrames。"
   ]
  },
  {
   "cell_type": "code",
   "execution_count": 3,
   "metadata": {
    "ExecuteTime": {
     "end_time": "2019-08-11T16:50:20.530619Z",
     "start_time": "2019-08-11T16:50:20.214356Z"
    }
   },
   "outputs": [],
   "source": [
    "train_df = pd.read_csv('./data/train.csv')\n",
    "test_df = pd.read_csv('./data/test.csv')\n",
    "combine = [train_df, test_df]"
   ]
  },
  {
   "cell_type": "markdown",
   "metadata": {},
   "source": [
    "## 通过描述数据来进行分析\n",
    "\n",
    "Pandas 能够帮助我们描述数据，回答以下问题。\n",
    "\n",
    "**哪些特征在数据几中有用？**\n",
    "\n",
    "具体特征描述可看 https://www.kaggle.com/c/titanic/data\n"
   ]
  },
  {
   "cell_type": "code",
   "execution_count": 5,
   "metadata": {
    "ExecuteTime": {
     "end_time": "2019-08-11T17:03:45.252648Z",
     "start_time": "2019-08-11T17:03:45.249655Z"
    }
   },
   "outputs": [
    {
     "name": "stdout",
     "output_type": "stream",
     "text": [
      "['PassengerId' 'Survived' 'Pclass' 'Name' 'Sex' 'Age' 'SibSp' 'Parch'\n",
      " 'Ticket' 'Fare' 'Cabin' 'Embarked']\n"
     ]
    }
   ],
   "source": [
    "print(train_df.columns.values)"
   ]
  },
  {
   "cell_type": "markdown",
   "metadata": {},
   "source": [
    "**哪些特征是类别特征？**\n",
    "\n",
    "这些值将样本分类为类似样本的集合。在类别特征中，基于名字，序数，比率或区间的值？ 除此之外，这有助于我们选择适当的可视化图。\n",
    "\n",
    "- 类别： Survived, Sex, and Embarked. Ordinal: Pclass.\n",
    "\n",
    "**哪些特征是数值特征？\n",
    "\n",
    "这些值随样本而变化。 在数值特征中，值是离散的，连续的还是基于时间序列的？ 除此之外，这有助于我们选择适当的可视化图。\n",
    "\n",
    "- Continous: Age, Fare. Discrete: SibSp, Parch."
   ]
  }
 ],
 "metadata": {
  "kernelspec": {
   "display_name": "Python 3",
   "language": "python",
   "name": "python3"
  },
  "toc": {
   "base_numbering": 1,
   "nav_menu": {},
   "number_sections": true,
   "sideBar": true,
   "skip_h1_title": true,
   "title_cell": "Table of Contents",
   "title_sidebar": "Contents",
   "toc_cell": false,
   "toc_position": {},
   "toc_section_display": true,
   "toc_window_display": true
  },
  "varInspector": {
   "cols": {
    "lenName": 16,
    "lenType": 16,
    "lenVar": 40
   },
   "kernels_config": {
    "python": {
     "delete_cmd_postfix": "",
     "delete_cmd_prefix": "del ",
     "library": "var_list.py",
     "varRefreshCmd": "print(var_dic_list())"
    },
    "r": {
     "delete_cmd_postfix": ") ",
     "delete_cmd_prefix": "rm(",
     "library": "var_list.r",
     "varRefreshCmd": "cat(var_dic_list()) "
    }
   },
   "types_to_exclude": [
    "module",
    "function",
    "builtin_function_or_method",
    "instance",
    "_Feature"
   ],
   "window_display": false
  }
 },
 "nbformat": 4,
 "nbformat_minor": 2
}
